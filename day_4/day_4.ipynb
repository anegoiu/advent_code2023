{
 "cells": [
  {
   "cell_type": "code",
   "execution_count": 34,
   "metadata": {},
   "outputs": [
    {
     "name": "stdout",
     "output_type": "stream",
     "text": [
      "Card   1: 81  1 43 40 49 51 38 65 36  4 | 21 15  1 43 60  9 83 81 35 49 40 38 82 65 20  4 58 94 16 89 84 10 77 48 76\n"
     ]
    }
   ],
   "source": [
    "import collections\n",
    "ROOT_DIR = \"/Users/anca/Desktop/advent_code/day_4/\"\n",
    "def load_map(path):\n",
    "    schema = open(path).readlines()\n",
    "    # print(schema)\n",
    "    return [line.rstrip() for line in schema]\n",
    "\n",
    "cards = load_map(f'{ROOT_DIR}day4.txt')\n",
    "small_cards = load_map(f'{ROOT_DIR}day4_small.txt')\n",
    "print(cards[0])"
   ]
  },
  {
   "cell_type": "code",
   "execution_count": 25,
   "metadata": {},
   "outputs": [],
   "source": [
    "def get_score(card):\n",
    "    \"\"\"\n",
    "    Determines the score of a card based on the number of winning numbers\n",
    "    \"\"\"\n",
    "    card = card.split(\":\")[1]\n",
    "    str_winning_numbers, str_my_numbers = card.split(\"|\")\n",
    "    winning_numbers = {int(num) for num in str_winning_numbers.split()}\n",
    "    my_numbers = {int(num) for num in str_my_numbers.split()}\n",
    "    num_winning_numbers = 0\n",
    "    for num in my_numbers:\n",
    "        if num in winning_numbers:\n",
    "            num_winning_numbers+= 1\n",
    "    # print(num_winning_numbers)\n",
    "    if num_winning_numbers == 0:\n",
    "        return 0\n",
    "    return 2 ** max(0, num_winning_numbers - 1)\n",
    "\n",
    "# test get_score\n",
    "card1 = \"Card 1: 41 48 83 86 17 | 83 86  6 31 17  9 48 53\"\n",
    "assert get_score(card1) == 8\n",
    "card2 = \"Card 2: 13 32 20 16 61 | 61 30 68 82 17 32 24 19\"\n",
    "assert get_score(card2) == 2\n",
    "card3 = \"Card 5: 87 83 26 28 32 | 88 30 70 12 93 22 82 36\"\n",
    "assert get_score(card3) == 0\n",
    "card4 = \"Card 4: 41 92 73 84 69 | 59 84 76 51 58  5 54 83\"\n",
    "assert get_score(card4) == 1"
   ]
  },
  {
   "cell_type": "code",
   "execution_count": 36,
   "metadata": {},
   "outputs": [],
   "source": [
    "def get_num_matches(card):\n",
    "    \"\"\"\n",
    "    Determines the number of matches between the winning numbers and my numbers\n",
    "    \"\"\"\n",
    "    card_number, card = card.split(\":\")\n",
    "    card_number = int(card_number.split()[1])\n",
    "    str_winning_numbers, str_my_numbers = card.split(\"|\")\n",
    "    winning_numbers = {int(num) for num in str_winning_numbers.split()}\n",
    "    my_numbers = {int(num) for num in str_my_numbers.split()}\n",
    "    num_winning_numbers = 0\n",
    "    for num in my_numbers:\n",
    "        if num in winning_numbers:\n",
    "            num_winning_numbers+= 1\n",
    "    # print(card_number, num_winning_numbers)\n",
    "    return card_number, num_winning_numbers\n",
    "\n",
    "# test get_num_matches\n",
    "card1 = \"Card 1: 41 48 83 86 17 | 83 86  6 31 17  9 48 53\"\n",
    "assert get_num_matches(card1) == (1, 4)\n",
    "card2 = \"Card 2: 13 32 20 16 61 | 61 30 68 82 17 32 24 19\"\n",
    "assert get_num_matches(card2) == (2, 2)\n",
    "card3 = \"Card 5: 87 83 26 28 32 | 88 30 70 12 93 22 82 36\"\n",
    "assert get_num_matches(card3) == (5, 0)\n",
    "card4 = \"Card 4: 41 92 73 84 69 | 59 84 76 51 58  5 54 83\"\n",
    "assert get_num_matches(card4) == (4, 1)"
   ]
  },
  {
   "cell_type": "code",
   "execution_count": 23,
   "metadata": {},
   "outputs": [
    {
     "name": "stdout",
     "output_type": "stream",
     "text": [
      "17782\n"
     ]
    }
   ],
   "source": [
    "def count_score(cards):\n",
    "    score = 0\n",
    "    for card in cards:\n",
    "        card_score = get_score(card)\n",
    "        score += card_score\n",
    "    return score\n",
    "\n",
    "# print(count_score(cards))"
   ]
  },
  {
   "cell_type": "code",
   "execution_count": 51,
   "metadata": {},
   "outputs": [
    {
     "name": "stdout",
     "output_type": "stream",
     "text": [
      "8477787\n",
      "30\n"
     ]
    }
   ],
   "source": [
    "def count_scratch_cards(cards):\n",
    "    scratch_cards = {i: 1 for i in range(1, len(cards)+ 1)}\n",
    "    # print(scratch_cards)\n",
    "    for card in cards:\n",
    "        card_number, num_matches = get_num_matches(card)\n",
    "        # print(f\"card nr {card_number} has {num_matches} matches\")\n",
    "        for card_won in range(card_number + 1, card_number + num_matches + 1):\n",
    "            if card_won <= len(scratch_cards):\n",
    "                scratch_cards[card_won] += scratch_cards[card_number]\n",
    "        # print(scratch_cards)\n",
    "\n",
    "    # print(scratch_cards)\n",
    "    return sum(scratch_cards.values())\n",
    "\n",
    "print(count_scratch_cards(cards))\n",
    "print(count_scratch_cards(small_cards))\n"
   ]
  }
 ],
 "metadata": {
  "kernelspec": {
   "display_name": "g2",
   "language": "python",
   "name": "python3"
  },
  "language_info": {
   "codemirror_mode": {
    "name": "ipython",
    "version": 3
   },
   "file_extension": ".py",
   "mimetype": "text/x-python",
   "name": "python",
   "nbconvert_exporter": "python",
   "pygments_lexer": "ipython3",
   "version": "3.10.13"
  }
 },
 "nbformat": 4,
 "nbformat_minor": 2
}
