{
 "cells": [
  {
   "cell_type": "code",
   "execution_count": 27,
   "metadata": {},
   "outputs": [
    {
     "name": "stdout",
     "output_type": "stream",
     "text": [
      "['Time:        54     70     82     75', 'Distance:   239   1142   1295   1253']\n"
     ]
    }
   ],
   "source": [
    "import collections\n",
    "ROOT_DIR = \"/Users/anca/Desktop/advent_code/advent_code2023/day_6/\"\n",
    "def load_map(path):\n",
    "    schema = open(path).readlines()\n",
    "    # print(schema)\n",
    "    return [line.rstrip() for line in schema]\n",
    "\n",
    "boats = load_map(f'{ROOT_DIR}boats.txt')\n",
    "boats_example = load_map(f'{ROOT_DIR}example.txt')\n",
    "print(boats)"
   ]
  },
  {
   "cell_type": "markdown",
   "metadata": {},
   "source": [
    "# Part 1"
   ]
  },
  {
   "cell_type": "code",
   "execution_count": 14,
   "metadata": {},
   "outputs": [
    {
     "name": "stdout",
     "output_type": "stream",
     "text": [
      "[(54, 239), (70, 1142), (82, 1295), (75, 1253)]\n"
     ]
    }
   ],
   "source": [
    "def extract_time_best_score(map) -> list[tuple[int, int]]:\n",
    "    \"\"\"Get the inout text and return tuples of time and best score for each race\"\"\"\n",
    "    times = get_values(map[0])\n",
    "    scores = get_values(map[1])\n",
    "    return [(time, score) for time, score in zip(times, scores)]\n",
    "\n",
    "def get_values(line):\n",
    "    return [int(x) for x in line.split(\" \")[1:] if x.isnumeric()]\n",
    "\n",
    "# test get values\n",
    "assert get_values(\"Time: 1    2 3 4 5\") == [1, 2, 3, 4, 5]\n",
    "assert get_values(\"Score: 1 2 3 4 5\") == [1, 2, 3, 4, 5]\n",
    "assert get_values('Time:        54     70     82     75') == [54, 70, 82, 75]\n",
    "\n",
    "# test extract_time_best_score\n",
    "print(extract_time_best_score(boats))\n",
    "assert extract_time_best_score(boats) == [(54, 239), (70, 1142), (82, 1295), (75, 1253)]"
   ]
  },
  {
   "cell_type": "code",
   "execution_count": 18,
   "metadata": {},
   "outputs": [],
   "source": [
    "# calculate how many ways we can get a strictly higher score than the max score in a race.\n",
    "# return all the possible ways in which we can win all the races\n",
    "def num_ways_to_beat_highscore(time_score: tuple[int,int])-> int:\n",
    "    \"\"\"\n",
    "    Returns the # of ways to beat the highscore\n",
    "    \"\"\"\n",
    "    time, score = time_score\n",
    "    count = 0\n",
    "    for i in range(time):\n",
    "        if i * (time - i) > score:\n",
    "            count += 1\n",
    "    return count\n",
    "\n",
    "# test\n",
    "assert num_ways_to_beat_highscore((5, 5)) == 2\n",
    "assert num_ways_to_beat_highscore((7, 9)) == 4\n",
    "\n",
    "# check score has to be strictly higher than highscore to pass\n",
    "assert num_ways_to_beat_highscore((7,12)) == 0\n",
    "\n",
    "\n"
   ]
  },
  {
   "cell_type": "code",
   "execution_count": 20,
   "metadata": {},
   "outputs": [
    {
     "name": "stdout",
     "output_type": "stream",
     "text": [
      " # ways: [45, 19, 39, 24]\n",
      "800280\n",
      " # ways: [4, 8, 9]\n",
      "288\n"
     ]
    }
   ],
   "source": [
    "\n",
    "def get_product(boats):\n",
    "    num_ways = [num_ways_to_beat_highscore(tuple) for tuple in extract_time_best_score(boats)]\n",
    "    print(f\" # ways: {num_ways}\")\n",
    "    product = 1\n",
    "    for num in num_ways:\n",
    "        product *= num\n",
    "\n",
    "    print(product)\n",
    "\n",
    "get_product(boats)\n",
    "get_product(boats_example)"
   ]
  },
  {
   "cell_type": "markdown",
   "metadata": {},
   "source": [
    "# Part 2"
   ]
  },
  {
   "cell_type": "code",
   "execution_count": 36,
   "metadata": {},
   "outputs": [
    {
     "name": "stdout",
     "output_type": "stream",
     "text": [
      "71530 940200\n",
      "54708275 239114212951253\n"
     ]
    }
   ],
   "source": [
    "def format_single_race(board):\n",
    "    # print(f\"board: {board}\")\n",
    "    times = get_values(board[0])\n",
    "    combined_time = \"\".join([str(x) for x in times])\n",
    "    scores = get_values(board[1])\n",
    "    # print(f\"times: {times}, scores: {scores}\")\n",
    "    combinded_scores = \"\".join([str(x) for x in scores])\n",
    "    # print(combined_time, combinded_scores)\n",
    "    return int(combined_time), int(combinded_scores)\n",
    "\n",
    "# test\n",
    "assert format_single_race(boats_example) == (71530, 940200)\n",
    "assert format_single_race(boats) == (54708275, 239114212951253)\n",
    "\n",
    "\n"
   ]
  },
  {
   "cell_type": "code",
   "execution_count": 37,
   "metadata": {},
   "outputs": [
    {
     "name": "stdout",
     "output_type": "stream",
     "text": [
      "71530 940200\n",
      "71503\n",
      "54708275 239114212951253\n",
      "45128024\n"
     ]
    }
   ],
   "source": [
    "print(num_ways_to_beat_highscore(format_single_race(boats_example)))\n",
    "print(num_ways_to_beat_highscore(format_single_race(boats)))"
   ]
  }
 ],
 "metadata": {
  "kernelspec": {
   "display_name": "g2",
   "language": "python",
   "name": "python3"
  },
  "language_info": {
   "codemirror_mode": {
    "name": "ipython",
    "version": 3
   },
   "file_extension": ".py",
   "mimetype": "text/x-python",
   "name": "python",
   "nbconvert_exporter": "python",
   "pygments_lexer": "ipython3",
   "version": "3.10.13"
  }
 },
 "nbformat": 4,
 "nbformat_minor": 2
}
