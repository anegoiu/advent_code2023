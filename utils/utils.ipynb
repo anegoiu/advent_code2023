{
 "cells": [
  {
   "cell_type": "code",
   "execution_count": 1,
   "metadata": {},
   "outputs": [],
   "source": [
    "def load_map(path):\n",
    "    schema = open(path).readlines()\n",
    "    print(schema)\n",
    "    return [line.rstrip() for line in schema]"
   ]
  }
 ],
 "metadata": {
  "kernelspec": {
   "display_name": "g2",
   "language": "python",
   "name": "python3"
  },
  "language_info": {
   "codemirror_mode": {
    "name": "ipython",
    "version": 3
   },
   "file_extension": ".py",
   "mimetype": "text/x-python",
   "name": "python",
   "nbconvert_exporter": "python",
   "pygments_lexer": "ipython3",
   "version": "3.10.13"
  }
 },
 "nbformat": 4,
 "nbformat_minor": 2
}
